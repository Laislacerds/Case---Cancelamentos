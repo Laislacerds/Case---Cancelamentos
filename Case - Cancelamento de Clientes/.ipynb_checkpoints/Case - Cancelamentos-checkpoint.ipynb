version https://git-lfs.github.com/spec/v1
oid sha256:98ee90e98e0378df8bf36feb38dd7b8e6b3f33284e449a4f9974bb965c49bbd3
size 216409135
